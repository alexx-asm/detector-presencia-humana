{
 "cells": [
  {
   "cell_type": "code",
   "execution_count": null,
   "metadata": {},
   "outputs": [
    {
     "name": "stdout",
     "output_type": "stream",
     "text": [
      "Vídeos encontrados: 31\n",
      "   - 00000000742000000.mp4\n",
      "   - 00000000742000100.mp4\n",
      "   - 00000000764002600.mp4\n",
      "   - 00000000764002700.mp4\n",
      "   - 00000000764002800.mp4\n",
      "   - 00000000764003000.mp4\n",
      "   - 00000000764003100.mp4\n",
      "   - 00000000764003200.mp4\n",
      "   - 00000000764003300.mp4\n",
      "   - 00000000787000000.mp4\n",
      "   - 00000002740000000.mp4\n",
      "   - 00010002417000000.mp4\n",
      "   - 00010002427000200.mp4\n",
      "   - 00010003234000200.mp4\n",
      "   - 0100000025100000000.mp4\n",
      "   - 0100000025500010000.mp4\n",
      "   - 0100000029500000000.mp4\n",
      "   - 01010000237000000.mp4\n",
      "   - 01010000343000000.mp4\n",
      "   - 01010000347000000.mp4\n",
      "   - 10.61.88.103_35_D20240521170239_20240521170440.mp4\n",
      "   - 10.61.88.103_35_D20240521170538_20240521170812.mp4\n",
      "   - 10.61.88.103_35_D20240521170847_20240521171122.mp4\n",
      "   - 10.61.88.103_35_D20240521171154_20240521171556.mp4\n",
      "   - Augusto 1_P10fsx_20221120020000_20221120062959.mp4\n",
      "   - Augusto 1_P5-3fsx_20221120020000_20221120052208.mp4\n",
      "   - ch01_00000000014000113.mp4\n",
      "   - Dulcinea O&M_CF07_20250117060001_20250117090001.mp4\n",
      "   - Dulcinea O&M_CF07_20250205150001_20250205180001.mp4\n",
      "   - Los Guinchos_DOMO 17 POZO I6_20250122092000_20250122093000.mp4\n",
      "   - Naranjos 6_CAM84_20241205053000_20241205060000.mp4\n",
      "\n",
      "Escaneando duración de todos los vídeos...\n",
      "Frames estimados totales a procesar (sin skips): ~6342760\n",
      "\n"
     ]
    },
    {
     "name": "stderr",
     "output_type": "stream",
     "text": [
      "Progreso global:   0%|          | 14/6342760 [00:00<12:45:14, 138.14frame/s]"
     ]
    },
    {
     "name": "stdout",
     "output_type": "stream",
     "text": [
      "\n",
      "Procesando vídeo: 00000000742000000.mp4\n",
      "   -> FPS: 25.00\n",
      "   -> Saltando cada 7 frames aproximadamente.\n"
     ]
    },
    {
     "name": "stderr",
     "output_type": "stream",
     "text": [
      "Progreso global:   1%|          | 47595/6342760 [02:00<5:05:39, 343.25frame/s]"
     ]
    },
    {
     "name": "stdout",
     "output_type": "stream",
     "text": [
      "Frames guardados de 00000000742000000.mp4: 2\n",
      "\n",
      "Procesando vídeo: 00000000742000100.mp4\n",
      "   -> FPS: 25.00\n",
      "   -> Saltando cada 7 frames aproximadamente.\n"
     ]
    },
    {
     "name": "stderr",
     "output_type": "stream",
     "text": [
      "Progreso global:   1%|          | 64314/6342760 [02:44<4:40:27, 373.11frame/s]"
     ]
    },
    {
     "name": "stdout",
     "output_type": "stream",
     "text": [
      "Frames guardados de 00000000742000100.mp4: 1\n",
      "\n",
      "Procesando vídeo: 00000000764002600.mp4\n",
      "   -> FPS: 25.00\n",
      "   -> Saltando cada 7 frames aproximadamente.\n"
     ]
    },
    {
     "name": "stderr",
     "output_type": "stream",
     "text": [
      "Progreso global:   3%|▎         | 160410/6342760 [06:54<5:19:07, 322.88frame/s]"
     ]
    },
    {
     "name": "stdout",
     "output_type": "stream",
     "text": [
      "Frames guardados de 00000000764002600.mp4: 12\n",
      "\n",
      "Procesando vídeo: 00000000764002700.mp4\n",
      "   -> FPS: 25.17\n",
      "   -> Saltando cada 7 frames aproximadamente.\n"
     ]
    },
    {
     "name": "stderr",
     "output_type": "stream",
     "text": [
      "Progreso global:   3%|▎         | 161669/6342760 [06:57<4:22:32, 392.40frame/s]"
     ]
    },
    {
     "name": "stdout",
     "output_type": "stream",
     "text": [
      "Frames guardados de 00000000764002700.mp4: 9\n",
      "\n",
      "Procesando vídeo: 00000000764002800.mp4\n",
      "   -> FPS: 25.00\n",
      "   -> Saltando cada 7 frames aproximadamente.\n"
     ]
    },
    {
     "name": "stderr",
     "output_type": "stream",
     "text": [
      "Progreso global:   3%|▎         | 161748/6342760 [06:58<5:06:18, 336.32frame/s]"
     ]
    },
    {
     "name": "stdout",
     "output_type": "stream",
     "text": [
      "Frames guardados de 00000000764002800.mp4: 1\n",
      "\n",
      "Procesando vídeo: 00000000764003000.mp4\n",
      "   -> FPS: 25.00\n",
      "   -> Saltando cada 7 frames aproximadamente.\n"
     ]
    },
    {
     "name": "stderr",
     "output_type": "stream",
     "text": [
      "Progreso global:   3%|▎         | 161991/6342760 [06:58<4:41:20, 366.15frame/s]"
     ]
    },
    {
     "name": "stdout",
     "output_type": "stream",
     "text": [
      "Frames guardados de 00000000764003000.mp4: 2\n",
      "\n",
      "Procesando vídeo: 00000000764003100.mp4\n",
      "   -> FPS: 25.00\n",
      "   -> Saltando cada 7 frames aproximadamente.\n"
     ]
    },
    {
     "name": "stderr",
     "output_type": "stream",
     "text": [
      "Progreso global:   3%|▎         | 162257/6342760 [06:59<5:27:31, 314.50frame/s]"
     ]
    },
    {
     "name": "stdout",
     "output_type": "stream",
     "text": [
      "Frames guardados de 00000000764003100.mp4: 4\n",
      "\n",
      "Procesando vídeo: 00000000764003200.mp4\n",
      "   -> FPS: 25.00\n",
      "   -> Saltando cada 7 frames aproximadamente.\n"
     ]
    },
    {
     "name": "stderr",
     "output_type": "stream",
     "text": [
      "Progreso global:   3%|▎         | 164674/6342760 [07:05<5:03:07, 339.68frame/s]"
     ]
    },
    {
     "name": "stdout",
     "output_type": "stream",
     "text": [
      "Frames guardados de 00000000764003200.mp4: 4\n",
      "\n",
      "Procesando vídeo: 00000000764003300.mp4\n",
      "   -> FPS: 25.00\n",
      "   -> Saltando cada 7 frames aproximadamente.\n"
     ]
    },
    {
     "name": "stderr",
     "output_type": "stream",
     "text": [
      "Progreso global:   3%|▎         | 165146/6342760 [07:07<4:46:22, 359.53frame/s]"
     ]
    },
    {
     "name": "stdout",
     "output_type": "stream",
     "text": [
      "Frames guardados de 00000000764003300.mp4: 3\n",
      "\n",
      "Procesando vídeo: 00000000787000000.mp4\n",
      "   -> FPS: 25.00\n",
      "   -> Saltando cada 7 frames aproximadamente.\n"
     ]
    },
    {
     "name": "stderr",
     "output_type": "stream",
     "text": [
      "Progreso global:   3%|▎         | 165944/6342760 [07:07<56:19, 1827.72frame/s] "
     ]
    },
    {
     "name": "stdout",
     "output_type": "stream",
     "text": [
      "Frames guardados de 00000000787000000.mp4: 1\n",
      "\n",
      "Procesando vídeo: 00000002740000000.mp4\n",
      "   -> FPS: 25.00\n",
      "   -> Saltando cada 7 frames aproximadamente.\n"
     ]
    },
    {
     "name": "stderr",
     "output_type": "stream",
     "text": [
      "Progreso global:   5%|▌         | 317721/6342760 [07:37<18:12, 5513.03frame/s]"
     ]
    },
    {
     "name": "stdout",
     "output_type": "stream",
     "text": [
      "Frames guardados de 00000002740000000.mp4: 48\n",
      "\n",
      "Procesando vídeo: 00010002417000000.mp4\n",
      "   -> FPS: 25.00\n",
      "   -> Saltando cada 7 frames aproximadamente.\n"
     ]
    },
    {
     "name": "stderr",
     "output_type": "stream",
     "text": [
      "Progreso global:  10%|█         | 646061/6342760 [22:36<5:39:37, 279.55frame/s] "
     ]
    },
    {
     "name": "stdout",
     "output_type": "stream",
     "text": [
      "Frames guardados de 00010002417000000.mp4: 140\n",
      "\n",
      "Procesando vídeo: 00010002427000200.mp4\n",
      "   -> FPS: 25.00\n",
      "   -> Saltando cada 7 frames aproximadamente.\n"
     ]
    },
    {
     "name": "stderr",
     "output_type": "stream",
     "text": [
      "Progreso global:  10%|█         | 664793/6342760 [23:29<1:01:06, 1548.42frame/s]"
     ]
    },
    {
     "name": "stdout",
     "output_type": "stream",
     "text": [
      "Frames guardados de 00010002427000200.mp4: 1\n",
      "\n",
      "Procesando vídeo: 00010003234000200.mp4\n",
      "   -> FPS: 25.00\n",
      "   -> Saltando cada 7 frames aproximadamente.\n"
     ]
    },
    {
     "name": "stderr",
     "output_type": "stream",
     "text": [
      "Progreso global:  11%|█         | 697415/6342760 [23:36<19:16, 4880.81frame/s]  "
     ]
    },
    {
     "name": "stdout",
     "output_type": "stream",
     "text": [
      "Frames guardados de 00010003234000200.mp4: 1\n",
      "\n",
      "Procesando vídeo: 0100000025100000000.mp4\n",
      "   -> FPS: 20.00\n",
      "   -> Saltando cada 6 frames aproximadamente.\n"
     ]
    },
    {
     "name": "stderr",
     "output_type": "stream",
     "text": [
      "Progreso global:  11%|█         | 698683/6342760 [23:46<8:34:35, 182.80frame/s]"
     ]
    }
   ],
   "source": [
    "## Extraer frames de los vídeos\n",
    "\n",
    "import cv2\n",
    "import os\n",
    "from tqdm import tqdm\n",
    "\n",
    "# === PARÁMETROS ===\n",
    "videos_dir = \"videos\"              # Carpeta con los vídeos\n",
    "output_dir = \"frames_extraidos\"    # Carpeta para guardar resultados\n",
    "sampling_interval_ms = 300         # Intervalo de muestreo en ms\n",
    "diff_threshold = 25                # Umbral de diferencia para guardar\n",
    "\n",
    "video_extensions = ('.mp4', '.avi', '.mov', '.mkv')\n",
    "\n",
    "# === Crear directorio de salida general ===\n",
    "os.makedirs(output_dir, exist_ok=True)\n",
    "\n",
    "# === Listar vídeos ===\n",
    "video_files = [f for f in os.listdir(videos_dir) if f.lower().endswith(video_extensions)]\n",
    "if not video_files:\n",
    "    print(\"No se encontraron vídeos en la carpeta.\")\n",
    "    exit()\n",
    "\n",
    "print(f\"Vídeos encontrados: {len(video_files)}\")\n",
    "for v in video_files:\n",
    "    print(f\"   - {v}\")\n",
    "\n",
    "# === Calcular total estimado de frames para barra global ===\n",
    "print(\"\\nEscaneando duración de todos los vídeos...\")\n",
    "total_frames_estimate = 0\n",
    "for video_file in video_files:\n",
    "    cap = cv2.VideoCapture(os.path.join(videos_dir, video_file))\n",
    "    total = cap.get(cv2.CAP_PROP_FRAME_COUNT)\n",
    "    total_frames_estimate += max(0, total)\n",
    "    cap.release()\n",
    "\n",
    "print(f\"Frames estimados totales a procesar (sin skips): ~{int(total_frames_estimate)}\\n\")\n",
    "\n",
    "# === Procesamiento ===\n",
    "global_progress = tqdm(total=int(total_frames_estimate), desc=\"Progreso global\", unit=\"frame\")\n",
    "\n",
    "total_saved = 0\n",
    "\n",
    "for video_file in video_files:\n",
    "    print(f\"\\nProcesando vídeo: {video_file}\")\n",
    "    video_path = os.path.join(videos_dir, video_file)\n",
    "    cap = cv2.VideoCapture(video_path)\n",
    "\n",
    "    if not cap.isOpened():\n",
    "        print(f\"Error al abrir: {video_file}\")\n",
    "        continue\n",
    "\n",
    "    fps = cap.get(cv2.CAP_PROP_FPS)\n",
    "    if fps <= 0:\n",
    "        fps = 25\n",
    "\n",
    "    frame_interval = int((sampling_interval_ms / 1000) * fps)\n",
    "\n",
    "    print(f\"   -> FPS: {fps:.2f}\")\n",
    "    print(f\"   -> Saltando cada {frame_interval} frames aproximadamente.\")\n",
    "\n",
    "    # Subcarpeta para este vídeo\n",
    "    video_output_subdir = os.path.join(output_dir, os.path.splitext(video_file)[0])\n",
    "    os.makedirs(video_output_subdir, exist_ok=True)\n",
    "\n",
    "    prev_gray = None\n",
    "    frame_count = 0\n",
    "    saved_count = 0\n",
    "\n",
    "    while True:\n",
    "        ret, frame = cap.read()\n",
    "        if not ret:\n",
    "            break\n",
    "\n",
    "        # Barra de progreso global\n",
    "        global_progress.update(1)\n",
    "\n",
    "        if frame_count % frame_interval != 0:\n",
    "            frame_count += 1\n",
    "            continue\n",
    "\n",
    "        gray = cv2.cvtColor(frame, cv2.COLOR_BGR2GRAY)\n",
    "\n",
    "        if prev_gray is None:\n",
    "            save_path = os.path.join(video_output_subdir, f\"frame_{frame_count:06d}.jpg\")\n",
    "            cv2.imwrite(save_path, frame)\n",
    "            saved_count += 1\n",
    "            prev_gray = gray\n",
    "            frame_count += 1\n",
    "            continue\n",
    "\n",
    "        diff = cv2.absdiff(gray, prev_gray)\n",
    "        mean_diff = diff.mean()\n",
    "\n",
    "        if mean_diff > diff_threshold:\n",
    "            save_path = os.path.join(video_output_subdir, f\"frame_{frame_count:06d}.jpg\")\n",
    "            cv2.imwrite(save_path, frame)\n",
    "            saved_count += 1\n",
    "            prev_gray = gray\n",
    "\n",
    "        frame_count += 1\n",
    "\n",
    "    cap.release()\n",
    "    print(f\"Frames guardados de {video_file}: {saved_count}\")\n",
    "    total_saved += saved_count\n",
    "\n",
    "global_progress.close()\n",
    "print(f\"\\nExtracción completa para todos los vídeos. Total de frames guardados: {total_saved}\")\n"
   ]
  },
  {
   "cell_type": "code",
   "execution_count": null,
   "metadata": {},
   "outputs": [
    {
     "name": "stdout",
     "output_type": "stream",
     "text": [
      "Procesando subcarpeta: 00000000742000000\n",
      "Procesando subcarpeta: 00000000742000100\n",
      "Procesando subcarpeta: 00000000764002600\n",
      "Procesando subcarpeta: 00000000764002700\n",
      "Procesando subcarpeta: 00000000764002800\n",
      "Procesando subcarpeta: 00000000764003000\n",
      "Procesando subcarpeta: 00000000764003100\n",
      "Procesando subcarpeta: 00000000764003200\n",
      "Procesando subcarpeta: 00000000764003300\n",
      "Procesando subcarpeta: 00000000787000000\n",
      "Procesando subcarpeta: 00000002740000000\n",
      "Procesando subcarpeta: 00010002417000000\n",
      "Procesando subcarpeta: 00010002427000200\n",
      "Procesando subcarpeta: 00010003234000200\n",
      "Procesando subcarpeta: 0100000025100000000\n",
      "Proceso completado. Total de imágenes copiadas: 283\n"
     ]
    }
   ],
   "source": [
    "## Juntar todos los frames en una misma carpeta\n",
    "\n",
    "import os\n",
    "import cv2\n",
    "\n",
    "input_root = \"frames_extraidos\" # Carpeta raíz con subcarpetas de frames\n",
    "output_dir = \"frames_unicos\"    # Carpeta destino\n",
    "os.makedirs(output_dir, exist_ok=True)\n",
    "\n",
    "counter = 1\n",
    "\n",
    "for subfolder in sorted(os.listdir(input_root)):\n",
    "    subfolder_path = os.path.join(input_root, subfolder)\n",
    "    if not os.path.isdir(subfolder_path):\n",
    "        continue\n",
    "\n",
    "    print(f\"Procesando subcarpeta: {subfolder}\")\n",
    "\n",
    "    for filename in sorted(os.listdir(subfolder_path)):\n",
    "        if filename.lower().endswith((\".jpg\", \".png\")):\n",
    "            src_path = os.path.join(subfolder_path, filename)\n",
    "\n",
    "            # Cargar imagen con OpenCV\n",
    "            img = cv2.imread(src_path)\n",
    "            if img is None:\n",
    "                print(f\"No se pudo leer {src_path}\")\n",
    "                continue\n",
    "\n",
    "            # Nuevo nombre\n",
    "            new_filename = f\"vigilancia_{counter:06d}.jpg\"\n",
    "            dst_path = os.path.join(output_dir, new_filename)\n",
    "\n",
    "            # Guardar como JPG\n",
    "            cv2.imwrite(dst_path, img)\n",
    "\n",
    "            counter += 1\n",
    "\n",
    "print(f\"Proceso completado. Total de imágenes copiadas: {counter-1}\")\n"
   ]
  }
 ],
 "metadata": {
  "kernelspec": {
   "display_name": ".venv",
   "language": "python",
   "name": "python3"
  },
  "language_info": {
   "codemirror_mode": {
    "name": "ipython",
    "version": 3
   },
   "file_extension": ".py",
   "mimetype": "text/x-python",
   "name": "python",
   "nbconvert_exporter": "python",
   "pygments_lexer": "ipython3",
   "version": "3.12.7"
  }
 },
 "nbformat": 4,
 "nbformat_minor": 2
}
